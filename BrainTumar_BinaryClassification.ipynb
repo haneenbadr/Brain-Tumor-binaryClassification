{
  "nbformat": 4,
  "nbformat_minor": 0,
  "metadata": {
    "colab": {
      "provenance": [],
      "gpuType": "T4",
      "include_colab_link": true
    },
    "kernelspec": {
      "name": "python3",
      "display_name": "Python 3"
    },
    "language_info": {
      "name": "python"
    },
    "accelerator": "GPU"
  },
  "cells": [
    {
      "cell_type": "markdown",
      "metadata": {
        "id": "view-in-github",
        "colab_type": "text"
      },
      "source": [
        "<a href=\"https://colab.research.google.com/github/haneenbadr/Brain-Tumor-binaryClassification/blob/main/BrainTumar_BinaryClassification.ipynb\" target=\"_parent\"><img src=\"https://colab.research.google.com/assets/colab-badge.svg\" alt=\"Open In Colab\"/></a>"
      ]
    },
    {
      "cell_type": "code",
      "execution_count": 1,
      "metadata": {
        "id": "uIa2v52iC9kK",
        "colab": {
          "base_uri": "https://localhost:8080/",
          "height": 90
        },
        "outputId": "981890b4-5bf8-470b-e9a1-0b12370cf2c7"
      },
      "outputs": [
        {
          "output_type": "display_data",
          "data": {
            "text/plain": [
              "<IPython.core.display.HTML object>"
            ],
            "text/html": [
              "\n",
              "     <input type=\"file\" id=\"files-eaacd7bf-524e-4944-8816-b2b9ae157b97\" name=\"files[]\" multiple disabled\n",
              "        style=\"border:none\" />\n",
              "     <output id=\"result-eaacd7bf-524e-4944-8816-b2b9ae157b97\">\n",
              "      Upload widget is only available when the cell has been executed in the\n",
              "      current browser session. Please rerun this cell to enable.\n",
              "      </output>\n",
              "      <script>// Copyright 2017 Google LLC\n",
              "//\n",
              "// Licensed under the Apache License, Version 2.0 (the \"License\");\n",
              "// you may not use this file except in compliance with the License.\n",
              "// You may obtain a copy of the License at\n",
              "//\n",
              "//      http://www.apache.org/licenses/LICENSE-2.0\n",
              "//\n",
              "// Unless required by applicable law or agreed to in writing, software\n",
              "// distributed under the License is distributed on an \"AS IS\" BASIS,\n",
              "// WITHOUT WARRANTIES OR CONDITIONS OF ANY KIND, either express or implied.\n",
              "// See the License for the specific language governing permissions and\n",
              "// limitations under the License.\n",
              "\n",
              "/**\n",
              " * @fileoverview Helpers for google.colab Python module.\n",
              " */\n",
              "(function(scope) {\n",
              "function span(text, styleAttributes = {}) {\n",
              "  const element = document.createElement('span');\n",
              "  element.textContent = text;\n",
              "  for (const key of Object.keys(styleAttributes)) {\n",
              "    element.style[key] = styleAttributes[key];\n",
              "  }\n",
              "  return element;\n",
              "}\n",
              "\n",
              "// Max number of bytes which will be uploaded at a time.\n",
              "const MAX_PAYLOAD_SIZE = 100 * 1024;\n",
              "\n",
              "function _uploadFiles(inputId, outputId) {\n",
              "  const steps = uploadFilesStep(inputId, outputId);\n",
              "  const outputElement = document.getElementById(outputId);\n",
              "  // Cache steps on the outputElement to make it available for the next call\n",
              "  // to uploadFilesContinue from Python.\n",
              "  outputElement.steps = steps;\n",
              "\n",
              "  return _uploadFilesContinue(outputId);\n",
              "}\n",
              "\n",
              "// This is roughly an async generator (not supported in the browser yet),\n",
              "// where there are multiple asynchronous steps and the Python side is going\n",
              "// to poll for completion of each step.\n",
              "// This uses a Promise to block the python side on completion of each step,\n",
              "// then passes the result of the previous step as the input to the next step.\n",
              "function _uploadFilesContinue(outputId) {\n",
              "  const outputElement = document.getElementById(outputId);\n",
              "  const steps = outputElement.steps;\n",
              "\n",
              "  const next = steps.next(outputElement.lastPromiseValue);\n",
              "  return Promise.resolve(next.value.promise).then((value) => {\n",
              "    // Cache the last promise value to make it available to the next\n",
              "    // step of the generator.\n",
              "    outputElement.lastPromiseValue = value;\n",
              "    return next.value.response;\n",
              "  });\n",
              "}\n",
              "\n",
              "/**\n",
              " * Generator function which is called between each async step of the upload\n",
              " * process.\n",
              " * @param {string} inputId Element ID of the input file picker element.\n",
              " * @param {string} outputId Element ID of the output display.\n",
              " * @return {!Iterable<!Object>} Iterable of next steps.\n",
              " */\n",
              "function* uploadFilesStep(inputId, outputId) {\n",
              "  const inputElement = document.getElementById(inputId);\n",
              "  inputElement.disabled = false;\n",
              "\n",
              "  const outputElement = document.getElementById(outputId);\n",
              "  outputElement.innerHTML = '';\n",
              "\n",
              "  const pickedPromise = new Promise((resolve) => {\n",
              "    inputElement.addEventListener('change', (e) => {\n",
              "      resolve(e.target.files);\n",
              "    });\n",
              "  });\n",
              "\n",
              "  const cancel = document.createElement('button');\n",
              "  inputElement.parentElement.appendChild(cancel);\n",
              "  cancel.textContent = 'Cancel upload';\n",
              "  const cancelPromise = new Promise((resolve) => {\n",
              "    cancel.onclick = () => {\n",
              "      resolve(null);\n",
              "    };\n",
              "  });\n",
              "\n",
              "  // Wait for the user to pick the files.\n",
              "  const files = yield {\n",
              "    promise: Promise.race([pickedPromise, cancelPromise]),\n",
              "    response: {\n",
              "      action: 'starting',\n",
              "    }\n",
              "  };\n",
              "\n",
              "  cancel.remove();\n",
              "\n",
              "  // Disable the input element since further picks are not allowed.\n",
              "  inputElement.disabled = true;\n",
              "\n",
              "  if (!files) {\n",
              "    return {\n",
              "      response: {\n",
              "        action: 'complete',\n",
              "      }\n",
              "    };\n",
              "  }\n",
              "\n",
              "  for (const file of files) {\n",
              "    const li = document.createElement('li');\n",
              "    li.append(span(file.name, {fontWeight: 'bold'}));\n",
              "    li.append(span(\n",
              "        `(${file.type || 'n/a'}) - ${file.size} bytes, ` +\n",
              "        `last modified: ${\n",
              "            file.lastModifiedDate ? file.lastModifiedDate.toLocaleDateString() :\n",
              "                                    'n/a'} - `));\n",
              "    const percent = span('0% done');\n",
              "    li.appendChild(percent);\n",
              "\n",
              "    outputElement.appendChild(li);\n",
              "\n",
              "    const fileDataPromise = new Promise((resolve) => {\n",
              "      const reader = new FileReader();\n",
              "      reader.onload = (e) => {\n",
              "        resolve(e.target.result);\n",
              "      };\n",
              "      reader.readAsArrayBuffer(file);\n",
              "    });\n",
              "    // Wait for the data to be ready.\n",
              "    let fileData = yield {\n",
              "      promise: fileDataPromise,\n",
              "      response: {\n",
              "        action: 'continue',\n",
              "      }\n",
              "    };\n",
              "\n",
              "    // Use a chunked sending to avoid message size limits. See b/62115660.\n",
              "    let position = 0;\n",
              "    do {\n",
              "      const length = Math.min(fileData.byteLength - position, MAX_PAYLOAD_SIZE);\n",
              "      const chunk = new Uint8Array(fileData, position, length);\n",
              "      position += length;\n",
              "\n",
              "      const base64 = btoa(String.fromCharCode.apply(null, chunk));\n",
              "      yield {\n",
              "        response: {\n",
              "          action: 'append',\n",
              "          file: file.name,\n",
              "          data: base64,\n",
              "        },\n",
              "      };\n",
              "\n",
              "      let percentDone = fileData.byteLength === 0 ?\n",
              "          100 :\n",
              "          Math.round((position / fileData.byteLength) * 100);\n",
              "      percent.textContent = `${percentDone}% done`;\n",
              "\n",
              "    } while (position < fileData.byteLength);\n",
              "  }\n",
              "\n",
              "  // All done.\n",
              "  yield {\n",
              "    response: {\n",
              "      action: 'complete',\n",
              "    }\n",
              "  };\n",
              "}\n",
              "\n",
              "scope.google = scope.google || {};\n",
              "scope.google.colab = scope.google.colab || {};\n",
              "scope.google.colab._files = {\n",
              "  _uploadFiles,\n",
              "  _uploadFilesContinue,\n",
              "};\n",
              "})(self);\n",
              "</script> "
            ]
          },
          "metadata": {}
        },
        {
          "output_type": "stream",
          "name": "stdout",
          "text": [
            "Saving kaggle.json to kaggle.json\n",
            "User uploaded file \"kaggle.json\" with length 66 bytes\n"
          ]
        }
      ],
      "source": [
        "from google.colab import files\n",
        "\n",
        "uploaded = files.upload()\n",
        "\n",
        "for fn in uploaded.keys():\n",
        "  print('User uploaded file \"{name}\" with length {length} bytes'.format(\n",
        "      name=fn, length=len(uploaded[fn])))\n",
        "\n",
        "# Then move kaggle.json into the folder where the API expects to find it.\n",
        "!mkdir -p ~/.kaggle/ && mv kaggle.json ~/.kaggle/ && chmod 600 ~/.kaggle/kaggle.json"
      ]
    },
    {
      "cell_type": "code",
      "source": [
        "!kaggle datasets download -d murtozalikhon/brain-tumor-multimodal-image-ct-and-mri"
      ],
      "metadata": {
        "id": "HSBTlxxnDC8A",
        "colab": {
          "base_uri": "https://localhost:8080/"
        },
        "outputId": "6d33b184-b648-4e59-dced-fa3ccbf92c5b"
      },
      "execution_count": 2,
      "outputs": [
        {
          "output_type": "stream",
          "name": "stdout",
          "text": [
            "Dataset URL: https://www.kaggle.com/datasets/murtozalikhon/brain-tumor-multimodal-image-ct-and-mri\n",
            "License(s): CC-BY-NC-SA-4.0\n",
            "Downloading brain-tumor-multimodal-image-ct-and-mri.zip to /content\n",
            " 99% 356M/361M [00:01<00:00, 187MB/s]\n",
            "100% 361M/361M [00:01<00:00, 224MB/s]\n"
          ]
        }
      ]
    },
    {
      "cell_type": "code",
      "source": [
        "from zipfile import ZipFile\n",
        "file_name = \"/content/brain-tumor-multimodal-image-ct-and-mri.zip\"\n",
        "with ZipFile(file_name,'r') as zip:\n",
        "  zip.extractall()\n",
        "  print('Done')"
      ],
      "metadata": {
        "id": "qxsfUzczSw5o",
        "colab": {
          "base_uri": "https://localhost:8080/"
        },
        "outputId": "84475bbf-70ca-4666-af75-b495068462ad"
      },
      "execution_count": 3,
      "outputs": [
        {
          "output_type": "stream",
          "name": "stdout",
          "text": [
            "Done\n"
          ]
        }
      ]
    },
    {
      "cell_type": "code",
      "source": [
        "import os\n",
        "import numpy as np\n",
        "import cv2\n",
        "import matplotlib.pyplot as plt\n",
        "from tensorflow.keras.preprocessing.image import ImageDataGenerator\n",
        "from tensorflow.keras.models import Sequential\n",
        "from tensorflow.keras.layers import Conv2D, MaxPooling2D, Flatten, Dense, Dropout\n",
        "from tensorflow.keras.optimizers import Adam\n",
        "from tensorflow.keras.models import Model\n",
        "from tensorflow.keras.callbacks import EarlyStopping\n",
        "from sklearn.metrics import classification_report, confusion_matrix"
      ],
      "metadata": {
        "id": "308nmkO4Szjy"
      },
      "execution_count": 22,
      "outputs": []
    },
    {
      "cell_type": "markdown",
      "source": [
        "# **Data Spliting**"
      ],
      "metadata": {
        "id": "s3Et8bIsxQXs"
      }
    },
    {
      "cell_type": "code",
      "source": [
        "import os\n",
        "import shutil\n",
        "import random\n",
        "\n",
        "\n",
        "dataset_path = \"/content/Dataset/Brain Tumor CT scan Images\"\n",
        "classes = ['Healthy', 'Tumor']\n",
        "\n",
        "\n",
        "train_dir = os.path.join(dataset_path, 'train')\n",
        "val_dir = os.path.join(dataset_path, 'val')\n",
        "test_dir = os.path.join(dataset_path, 'test')\n",
        "\n",
        "\n",
        "for dir_path in [train_dir, val_dir, test_dir]:\n",
        "    for cls in classes:\n",
        "        os.makedirs(os.path.join(dir_path, cls), exist_ok=True)\n",
        "\n",
        "\n",
        "for cls in classes:\n",
        "    class_path = os.path.join(dataset_path, cls)\n",
        "    images = os.listdir(class_path)\n",
        "    random.shuffle(images)\n",
        "\n",
        "    train_split = int(0.7 * len(images))\n",
        "    val_split = int(0.9 * len(images))\n",
        "\n",
        "    train_images = images[:train_split]\n",
        "    val_images = images[train_split:val_split]\n",
        "    test_images = images[val_split:]\n",
        "\n",
        "    for img in train_images:\n",
        "        shutil.move(os.path.join(class_path, img), os.path.join(train_dir, cls, img))\n",
        "\n",
        "    for img in val_images:\n",
        "        shutil.move(os.path.join(class_path, img), os.path.join(val_dir, cls, img))\n",
        "\n",
        "    for img in test_images:\n",
        "        shutil.move(os.path.join(class_path, img), os.path.join(test_dir, cls, img))\n"
      ],
      "metadata": {
        "id": "Jn6jZ6c0S-Pz"
      },
      "execution_count": 33,
      "outputs": []
    },
    {
      "cell_type": "markdown",
      "source": [
        "# **Data Preprocessing**"
      ],
      "metadata": {
        "id": "3hzui84pxncm"
      }
    },
    {
      "cell_type": "code",
      "source": [
        "train_data =ImageDataGenerator(rescale=1./255).flow_from_directory(\n",
        "    os.path.join(dataset_path, 'train'),\n",
        "    target_size=(128, 128),\n",
        "    batch_size=32,\n",
        "    class_mode='binary',\n",
        "    shuffle=True\n",
        ")\n",
        "\n",
        "val_data = ImageDataGenerator(rescale=1./255).flow_from_directory(\n",
        "    os.path.join(dataset_path, 'val'),\n",
        "    target_size=(128, 128),\n",
        "    batch_size=32,\n",
        "    class_mode='binary',\n",
        "    shuffle=True\n",
        ")\n",
        "\n",
        "test_data = ImageDataGenerator(rescale=1./255).flow_from_directory(\n",
        "    os.path.join(dataset_path, 'test'),\n",
        "     target_size=(128, 128),\n",
        "    batch_size=32,\n",
        "    class_mode='binary',\n",
        "    shuffle=False\n",
        ")\n",
        "\n",
        "\n"
      ],
      "metadata": {
        "id": "8SwP4AeATSLE",
        "colab": {
          "base_uri": "https://localhost:8080/"
        },
        "outputId": "b8b27f88-6382-4d9e-a8f3-7266a3767efa"
      },
      "execution_count": 36,
      "outputs": [
        {
          "output_type": "stream",
          "name": "stdout",
          "text": [
            "Found 3232 images belonging to 2 classes.\n",
            "Found 924 images belonging to 2 classes.\n",
            "Found 462 images belonging to 2 classes.\n"
          ]
        }
      ]
    },
    {
      "cell_type": "markdown",
      "source": [
        "# **Build Model and Training**"
      ],
      "metadata": {
        "id": "tSgnonUAxwBG"
      }
    },
    {
      "cell_type": "code",
      "source": [
        "#Custom CNN model\n",
        "model = Sequential([\n",
        "    Conv2D(32, (3, 3), activation='relu', input_shape=(128, 128, 3)), # Change input_shape to (128, 128, 3)\n",
        "    MaxPooling2D(pool_size=(2, 2)),\n",
        "    Dropout(0.25),\n",
        "\n",
        "    Conv2D(64, (3, 3), activation='relu'),\n",
        "    MaxPooling2D(pool_size=(2, 2)),\n",
        "    Dropout(0.25),\n",
        "\n",
        "    Conv2D(128, (3, 3), activation='relu'),\n",
        "    MaxPooling2D(pool_size=(2, 2)),\n",
        "    Dropout(0.25),\n",
        "\n",
        "    Flatten(),\n",
        "    Dense(128, activation='relu'),\n",
        "    Dropout(0.5),\n",
        "    Dense(1, activation='sigmoid')\n",
        "])\n",
        "\n",
        "# Compile the model\n",
        "model.compile(optimizer=Adam(learning_rate=0.0001), loss='binary_crossentropy', metrics=['accuracy'])\n",
        "\n",
        "# 6. Early Stopping\n",
        "# early_stopping = EarlyStopping(\n",
        "#     monitor='val_loss',\n",
        "#     patience=3,\n",
        "#     restore_best_weights=True\n",
        "# )\n",
        "\n",
        "# Train the model\n",
        "history = model.fit(\n",
        "    train_data,\n",
        "    validation_data=val_data,\n",
        "    epochs=100,\n",
        "    #callbacks=[early_stopping]\n",
        ")"
      ],
      "metadata": {
        "id": "PmRmdiJxTa9P",
        "colab": {
          "base_uri": "https://localhost:8080/"
        },
        "outputId": "581dbc7f-9165-4aa3-80df-9d7d12094a79"
      },
      "execution_count": 56,
      "outputs": [
        {
          "output_type": "stream",
          "name": "stderr",
          "text": [
            "/usr/local/lib/python3.10/dist-packages/keras/src/layers/convolutional/base_conv.py:107: UserWarning: Do not pass an `input_shape`/`input_dim` argument to a layer. When using Sequential models, prefer using an `Input(shape)` object as the first layer in the model instead.\n",
            "  super().__init__(activity_regularizer=activity_regularizer, **kwargs)\n"
          ]
        },
        {
          "output_type": "stream",
          "name": "stdout",
          "text": [
            "Epoch 1/100\n",
            "\u001b[1m101/101\u001b[0m \u001b[32m━━━━━━━━━━━━━━━━━━━━\u001b[0m\u001b[37m\u001b[0m \u001b[1m18s\u001b[0m 131ms/step - accuracy: 0.7323 - loss: 0.5304 - val_accuracy: 0.8203 - val_loss: 0.4343\n",
            "Epoch 2/100\n",
            "\u001b[1m101/101\u001b[0m \u001b[32m━━━━━━━━━━━━━━━━━━━━\u001b[0m\u001b[37m\u001b[0m \u001b[1m15s\u001b[0m 100ms/step - accuracy: 0.8408 - loss: 0.3594 - val_accuracy: 0.8680 - val_loss: 0.3454\n",
            "Epoch 3/100\n",
            "\u001b[1m101/101\u001b[0m \u001b[32m━━━━━━━━━━━━━━━━━━━━\u001b[0m\u001b[37m\u001b[0m \u001b[1m21s\u001b[0m 107ms/step - accuracy: 0.8648 - loss: 0.3026 - val_accuracy: 0.8788 - val_loss: 0.2956\n",
            "Epoch 4/100\n",
            "\u001b[1m101/101\u001b[0m \u001b[32m━━━━━━━━━━━━━━━━━━━━\u001b[0m\u001b[37m\u001b[0m \u001b[1m11s\u001b[0m 108ms/step - accuracy: 0.8904 - loss: 0.2418 - val_accuracy: 0.8939 - val_loss: 0.2623\n",
            "Epoch 5/100\n",
            "\u001b[1m101/101\u001b[0m \u001b[32m━━━━━━━━━━━━━━━━━━━━\u001b[0m\u001b[37m\u001b[0m \u001b[1m21s\u001b[0m 110ms/step - accuracy: 0.8977 - loss: 0.2386 - val_accuracy: 0.9037 - val_loss: 0.2402\n",
            "Epoch 6/100\n",
            "\u001b[1m101/101\u001b[0m \u001b[32m━━━━━━━━━━━━━━━━━━━━\u001b[0m\u001b[37m\u001b[0m \u001b[1m20s\u001b[0m 110ms/step - accuracy: 0.9169 - loss: 0.2164 - val_accuracy: 0.9058 - val_loss: 0.2353\n",
            "Epoch 7/100\n",
            "\u001b[1m101/101\u001b[0m \u001b[32m━━━━━━━━━━━━━━━━━━━━\u001b[0m\u001b[37m\u001b[0m \u001b[1m11s\u001b[0m 108ms/step - accuracy: 0.9161 - loss: 0.2011 - val_accuracy: 0.9069 - val_loss: 0.2192\n",
            "Epoch 8/100\n",
            "\u001b[1m101/101\u001b[0m \u001b[32m━━━━━━━━━━━━━━━━━━━━\u001b[0m\u001b[37m\u001b[0m \u001b[1m21s\u001b[0m 110ms/step - accuracy: 0.9217 - loss: 0.1860 - val_accuracy: 0.9199 - val_loss: 0.1997\n",
            "Epoch 9/100\n",
            "\u001b[1m101/101\u001b[0m \u001b[32m━━━━━━━━━━━━━━━━━━━━\u001b[0m\u001b[37m\u001b[0m \u001b[1m20s\u001b[0m 103ms/step - accuracy: 0.9299 - loss: 0.1633 - val_accuracy: 0.9210 - val_loss: 0.1918\n",
            "Epoch 10/100\n",
            "\u001b[1m101/101\u001b[0m \u001b[32m━━━━━━━━━━━━━━━━━━━━\u001b[0m\u001b[37m\u001b[0m \u001b[1m12s\u001b[0m 113ms/step - accuracy: 0.9430 - loss: 0.1495 - val_accuracy: 0.9253 - val_loss: 0.1793\n",
            "Epoch 11/100\n",
            "\u001b[1m101/101\u001b[0m \u001b[32m━━━━━━━━━━━━━━━━━━━━\u001b[0m\u001b[37m\u001b[0m \u001b[1m12s\u001b[0m 109ms/step - accuracy: 0.9481 - loss: 0.1468 - val_accuracy: 0.9318 - val_loss: 0.1759\n",
            "Epoch 12/100\n",
            "\u001b[1m101/101\u001b[0m \u001b[32m━━━━━━━━━━━━━━━━━━━━\u001b[0m\u001b[37m\u001b[0m \u001b[1m21s\u001b[0m 111ms/step - accuracy: 0.9432 - loss: 0.1314 - val_accuracy: 0.9361 - val_loss: 0.1650\n",
            "Epoch 13/100\n",
            "\u001b[1m101/101\u001b[0m \u001b[32m━━━━━━━━━━━━━━━━━━━━\u001b[0m\u001b[37m\u001b[0m \u001b[1m20s\u001b[0m 101ms/step - accuracy: 0.9571 - loss: 0.1135 - val_accuracy: 0.9513 - val_loss: 0.1540\n",
            "Epoch 14/100\n",
            "\u001b[1m101/101\u001b[0m \u001b[32m━━━━━━━━━━━━━━━━━━━━\u001b[0m\u001b[37m\u001b[0m \u001b[1m12s\u001b[0m 114ms/step - accuracy: 0.9598 - loss: 0.1060 - val_accuracy: 0.9470 - val_loss: 0.1467\n",
            "Epoch 15/100\n",
            "\u001b[1m101/101\u001b[0m \u001b[32m━━━━━━━━━━━━━━━━━━━━\u001b[0m\u001b[37m\u001b[0m \u001b[1m20s\u001b[0m 109ms/step - accuracy: 0.9627 - loss: 0.1003 - val_accuracy: 0.9437 - val_loss: 0.1512\n",
            "Epoch 16/100\n",
            "\u001b[1m101/101\u001b[0m \u001b[32m━━━━━━━━━━━━━━━━━━━━\u001b[0m\u001b[37m\u001b[0m \u001b[1m12s\u001b[0m 109ms/step - accuracy: 0.9635 - loss: 0.0912 - val_accuracy: 0.9524 - val_loss: 0.1457\n",
            "Epoch 17/100\n",
            "\u001b[1m101/101\u001b[0m \u001b[32m━━━━━━━━━━━━━━━━━━━━\u001b[0m\u001b[37m\u001b[0m \u001b[1m20s\u001b[0m 102ms/step - accuracy: 0.9689 - loss: 0.0840 - val_accuracy: 0.9513 - val_loss: 0.1370\n",
            "Epoch 18/100\n",
            "\u001b[1m101/101\u001b[0m \u001b[32m━━━━━━━━━━━━━━━━━━━━\u001b[0m\u001b[37m\u001b[0m \u001b[1m13s\u001b[0m 120ms/step - accuracy: 0.9710 - loss: 0.0794 - val_accuracy: 0.9481 - val_loss: 0.1421\n",
            "Epoch 19/100\n",
            "\u001b[1m101/101\u001b[0m \u001b[32m━━━━━━━━━━━━━━━━━━━━\u001b[0m\u001b[37m\u001b[0m \u001b[1m20s\u001b[0m 114ms/step - accuracy: 0.9765 - loss: 0.0665 - val_accuracy: 0.9578 - val_loss: 0.1296\n",
            "Epoch 20/100\n",
            "\u001b[1m101/101\u001b[0m \u001b[32m━━━━━━━━━━━━━━━━━━━━\u001b[0m\u001b[37m\u001b[0m \u001b[1m13s\u001b[0m 119ms/step - accuracy: 0.9752 - loss: 0.0752 - val_accuracy: 0.9567 - val_loss: 0.1308\n",
            "Epoch 21/100\n",
            "\u001b[1m101/101\u001b[0m \u001b[32m━━━━━━━━━━━━━━━━━━━━\u001b[0m\u001b[37m\u001b[0m \u001b[1m13s\u001b[0m 122ms/step - accuracy: 0.9706 - loss: 0.0729 - val_accuracy: 0.9556 - val_loss: 0.1380\n",
            "Epoch 22/100\n",
            "\u001b[1m101/101\u001b[0m \u001b[32m━━━━━━━━━━━━━━━━━━━━\u001b[0m\u001b[37m\u001b[0m \u001b[1m20s\u001b[0m 115ms/step - accuracy: 0.9834 - loss: 0.0546 - val_accuracy: 0.9513 - val_loss: 0.1424\n",
            "Epoch 23/100\n",
            "\u001b[1m101/101\u001b[0m \u001b[32m━━━━━━━━━━━━━━━━━━━━\u001b[0m\u001b[37m\u001b[0m \u001b[1m12s\u001b[0m 115ms/step - accuracy: 0.9833 - loss: 0.0574 - val_accuracy: 0.9567 - val_loss: 0.1376\n",
            "Epoch 24/100\n",
            "\u001b[1m101/101\u001b[0m \u001b[32m━━━━━━━━━━━━━━━━━━━━\u001b[0m\u001b[37m\u001b[0m \u001b[1m12s\u001b[0m 115ms/step - accuracy: 0.9795 - loss: 0.0573 - val_accuracy: 0.9513 - val_loss: 0.1441\n",
            "Epoch 25/100\n",
            "\u001b[1m101/101\u001b[0m \u001b[32m━━━━━━━━━━━━━━━━━━━━\u001b[0m\u001b[37m\u001b[0m \u001b[1m12s\u001b[0m 111ms/step - accuracy: 0.9830 - loss: 0.0523 - val_accuracy: 0.9600 - val_loss: 0.1372\n",
            "Epoch 26/100\n",
            "\u001b[1m101/101\u001b[0m \u001b[32m━━━━━━━━━━━━━━━━━━━━\u001b[0m\u001b[37m\u001b[0m \u001b[1m20s\u001b[0m 112ms/step - accuracy: 0.9869 - loss: 0.0395 - val_accuracy: 0.9567 - val_loss: 0.1349\n",
            "Epoch 27/100\n",
            "\u001b[1m101/101\u001b[0m \u001b[32m━━━━━━━━━━━━━━━━━━━━\u001b[0m\u001b[37m\u001b[0m \u001b[1m12s\u001b[0m 115ms/step - accuracy: 0.9856 - loss: 0.0433 - val_accuracy: 0.9535 - val_loss: 0.1443\n",
            "Epoch 28/100\n",
            "\u001b[1m101/101\u001b[0m \u001b[32m━━━━━━━━━━━━━━━━━━━━\u001b[0m\u001b[37m\u001b[0m \u001b[1m21s\u001b[0m 120ms/step - accuracy: 0.9867 - loss: 0.0381 - val_accuracy: 0.9567 - val_loss: 0.1341\n",
            "Epoch 29/100\n",
            "\u001b[1m101/101\u001b[0m \u001b[32m━━━━━━━━━━━━━━━━━━━━\u001b[0m\u001b[37m\u001b[0m \u001b[1m21s\u001b[0m 120ms/step - accuracy: 0.9905 - loss: 0.0320 - val_accuracy: 0.9567 - val_loss: 0.1382\n",
            "Epoch 30/100\n",
            "\u001b[1m101/101\u001b[0m \u001b[32m━━━━━━━━━━━━━━━━━━━━\u001b[0m\u001b[37m\u001b[0m \u001b[1m19s\u001b[0m 107ms/step - accuracy: 0.9882 - loss: 0.0381 - val_accuracy: 0.9545 - val_loss: 0.1538\n",
            "Epoch 31/100\n",
            "\u001b[1m101/101\u001b[0m \u001b[32m━━━━━━━━━━━━━━━━━━━━\u001b[0m\u001b[37m\u001b[0m \u001b[1m21s\u001b[0m 114ms/step - accuracy: 0.9852 - loss: 0.0382 - val_accuracy: 0.9621 - val_loss: 0.1413\n",
            "Epoch 32/100\n",
            "\u001b[1m101/101\u001b[0m \u001b[32m━━━━━━━━━━━━━━━━━━━━\u001b[0m\u001b[37m\u001b[0m \u001b[1m12s\u001b[0m 114ms/step - accuracy: 0.9851 - loss: 0.0439 - val_accuracy: 0.9610 - val_loss: 0.1418\n",
            "Epoch 33/100\n",
            "\u001b[1m101/101\u001b[0m \u001b[32m━━━━━━━━━━━━━━━━━━━━\u001b[0m\u001b[37m\u001b[0m \u001b[1m21s\u001b[0m 117ms/step - accuracy: 0.9893 - loss: 0.0291 - val_accuracy: 0.9589 - val_loss: 0.1441\n",
            "Epoch 34/100\n",
            "\u001b[1m101/101\u001b[0m \u001b[32m━━━━━━━━━━━━━━━━━━━━\u001b[0m\u001b[37m\u001b[0m \u001b[1m20s\u001b[0m 115ms/step - accuracy: 0.9874 - loss: 0.0309 - val_accuracy: 0.9610 - val_loss: 0.1457\n",
            "Epoch 35/100\n",
            "\u001b[1m101/101\u001b[0m \u001b[32m━━━━━━━━━━━━━━━━━━━━\u001b[0m\u001b[37m\u001b[0m \u001b[1m20s\u001b[0m 113ms/step - accuracy: 0.9929 - loss: 0.0255 - val_accuracy: 0.9600 - val_loss: 0.1440\n",
            "Epoch 36/100\n",
            "\u001b[1m101/101\u001b[0m \u001b[32m━━━━━━━━━━━━━━━━━━━━\u001b[0m\u001b[37m\u001b[0m \u001b[1m12s\u001b[0m 112ms/step - accuracy: 0.9947 - loss: 0.0205 - val_accuracy: 0.9610 - val_loss: 0.1701\n",
            "Epoch 37/100\n",
            "\u001b[1m101/101\u001b[0m \u001b[32m━━━━━━━━━━━━━━━━━━━━\u001b[0m\u001b[37m\u001b[0m \u001b[1m20s\u001b[0m 107ms/step - accuracy: 0.9927 - loss: 0.0263 - val_accuracy: 0.9589 - val_loss: 0.1738\n",
            "Epoch 38/100\n",
            "\u001b[1m101/101\u001b[0m \u001b[32m━━━━━━━━━━━━━━━━━━━━\u001b[0m\u001b[37m\u001b[0m \u001b[1m12s\u001b[0m 111ms/step - accuracy: 0.9861 - loss: 0.0311 - val_accuracy: 0.9600 - val_loss: 0.1727\n",
            "Epoch 39/100\n",
            "\u001b[1m101/101\u001b[0m \u001b[32m━━━━━━━━━━━━━━━━━━━━\u001b[0m\u001b[37m\u001b[0m \u001b[1m21s\u001b[0m 114ms/step - accuracy: 0.9925 - loss: 0.0224 - val_accuracy: 0.9621 - val_loss: 0.1697\n",
            "Epoch 40/100\n",
            "\u001b[1m101/101\u001b[0m \u001b[32m━━━━━━━━━━━━━━━━━━━━\u001b[0m\u001b[37m\u001b[0m \u001b[1m12s\u001b[0m 114ms/step - accuracy: 0.9915 - loss: 0.0201 - val_accuracy: 0.9643 - val_loss: 0.1611\n",
            "Epoch 41/100\n",
            "\u001b[1m101/101\u001b[0m \u001b[32m━━━━━━━━━━━━━━━━━━━━\u001b[0m\u001b[37m\u001b[0m \u001b[1m14s\u001b[0m 137ms/step - accuracy: 0.9955 - loss: 0.0187 - val_accuracy: 0.9632 - val_loss: 0.1644\n",
            "Epoch 42/100\n",
            "\u001b[1m101/101\u001b[0m \u001b[32m━━━━━━━━━━━━━━━━━━━━\u001b[0m\u001b[37m\u001b[0m \u001b[1m12s\u001b[0m 110ms/step - accuracy: 0.9921 - loss: 0.0235 - val_accuracy: 0.9600 - val_loss: 0.1689\n",
            "Epoch 43/100\n",
            "\u001b[1m101/101\u001b[0m \u001b[32m━━━━━━━━━━━━━━━━━━━━\u001b[0m\u001b[37m\u001b[0m \u001b[1m20s\u001b[0m 102ms/step - accuracy: 0.9947 - loss: 0.0171 - val_accuracy: 0.9632 - val_loss: 0.1691\n",
            "Epoch 44/100\n",
            "\u001b[1m101/101\u001b[0m \u001b[32m━━━━━━━━━━━━━━━━━━━━\u001b[0m\u001b[37m\u001b[0m \u001b[1m12s\u001b[0m 113ms/step - accuracy: 0.9964 - loss: 0.0164 - val_accuracy: 0.9578 - val_loss: 0.1822\n",
            "Epoch 45/100\n",
            "\u001b[1m101/101\u001b[0m \u001b[32m━━━━━━━━━━━━━━━━━━━━\u001b[0m\u001b[37m\u001b[0m \u001b[1m13s\u001b[0m 119ms/step - accuracy: 0.9947 - loss: 0.0151 - val_accuracy: 0.9600 - val_loss: 0.1872\n",
            "Epoch 46/100\n",
            "\u001b[1m101/101\u001b[0m \u001b[32m━━━━━━━━━━━━━━━━━━━━\u001b[0m\u001b[37m\u001b[0m \u001b[1m12s\u001b[0m 114ms/step - accuracy: 0.9952 - loss: 0.0140 - val_accuracy: 0.9621 - val_loss: 0.1798\n",
            "Epoch 47/100\n",
            "\u001b[1m101/101\u001b[0m \u001b[32m━━━━━━━━━━━━━━━━━━━━\u001b[0m\u001b[37m\u001b[0m \u001b[1m12s\u001b[0m 118ms/step - accuracy: 0.9967 - loss: 0.0131 - val_accuracy: 0.9610 - val_loss: 0.1925\n",
            "Epoch 48/100\n",
            "\u001b[1m101/101\u001b[0m \u001b[32m━━━━━━━━━━━━━━━━━━━━\u001b[0m\u001b[37m\u001b[0m \u001b[1m22s\u001b[0m 133ms/step - accuracy: 0.9913 - loss: 0.0223 - val_accuracy: 0.9654 - val_loss: 0.1858\n",
            "Epoch 49/100\n",
            "\u001b[1m101/101\u001b[0m \u001b[32m━━━━━━━━━━━━━━━━━━━━\u001b[0m\u001b[37m\u001b[0m \u001b[1m12s\u001b[0m 112ms/step - accuracy: 0.9951 - loss: 0.0123 - val_accuracy: 0.9665 - val_loss: 0.1771\n",
            "Epoch 50/100\n",
            "\u001b[1m101/101\u001b[0m \u001b[32m━━━━━━━━━━━━━━━━━━━━\u001b[0m\u001b[37m\u001b[0m \u001b[1m14s\u001b[0m 132ms/step - accuracy: 0.9965 - loss: 0.0120 - val_accuracy: 0.9632 - val_loss: 0.1629\n",
            "Epoch 51/100\n",
            "\u001b[1m101/101\u001b[0m \u001b[32m━━━━━━━━━━━━━━━━━━━━\u001b[0m\u001b[37m\u001b[0m \u001b[1m18s\u001b[0m 111ms/step - accuracy: 0.9964 - loss: 0.0125 - val_accuracy: 0.9610 - val_loss: 0.1873\n",
            "Epoch 52/100\n",
            "\u001b[1m101/101\u001b[0m \u001b[32m━━━━━━━━━━━━━━━━━━━━\u001b[0m\u001b[37m\u001b[0m \u001b[1m12s\u001b[0m 112ms/step - accuracy: 0.9968 - loss: 0.0178 - val_accuracy: 0.9632 - val_loss: 0.1955\n",
            "Epoch 53/100\n",
            "\u001b[1m101/101\u001b[0m \u001b[32m━━━━━━━━━━━━━━━━━━━━\u001b[0m\u001b[37m\u001b[0m \u001b[1m12s\u001b[0m 118ms/step - accuracy: 0.9939 - loss: 0.0125 - val_accuracy: 0.9621 - val_loss: 0.1702\n",
            "Epoch 54/100\n",
            "\u001b[1m101/101\u001b[0m \u001b[32m━━━━━━━━━━━━━━━━━━━━\u001b[0m\u001b[37m\u001b[0m \u001b[1m13s\u001b[0m 127ms/step - accuracy: 0.9944 - loss: 0.0134 - val_accuracy: 0.9621 - val_loss: 0.1756\n",
            "Epoch 55/100\n",
            "\u001b[1m101/101\u001b[0m \u001b[32m━━━━━━━━━━━━━━━━━━━━\u001b[0m\u001b[37m\u001b[0m \u001b[1m19s\u001b[0m 110ms/step - accuracy: 0.9968 - loss: 0.0123 - val_accuracy: 0.9632 - val_loss: 0.1857\n",
            "Epoch 56/100\n",
            "\u001b[1m101/101\u001b[0m \u001b[32m━━━━━━━━━━━━━━━━━━━━\u001b[0m\u001b[37m\u001b[0m \u001b[1m13s\u001b[0m 120ms/step - accuracy: 0.9936 - loss: 0.0126 - val_accuracy: 0.9632 - val_loss: 0.1912\n",
            "Epoch 57/100\n",
            "\u001b[1m101/101\u001b[0m \u001b[32m━━━━━━━━━━━━━━━━━━━━\u001b[0m\u001b[37m\u001b[0m \u001b[1m20s\u001b[0m 114ms/step - accuracy: 0.9962 - loss: 0.0085 - val_accuracy: 0.9643 - val_loss: 0.2162\n",
            "Epoch 58/100\n",
            "\u001b[1m101/101\u001b[0m \u001b[32m━━━━━━━━━━━━━━━━━━━━\u001b[0m\u001b[37m\u001b[0m \u001b[1m20s\u001b[0m 106ms/step - accuracy: 0.9942 - loss: 0.0124 - val_accuracy: 0.9621 - val_loss: 0.1848\n",
            "Epoch 59/100\n",
            "\u001b[1m101/101\u001b[0m \u001b[32m━━━━━━━━━━━━━━━━━━━━\u001b[0m\u001b[37m\u001b[0m \u001b[1m11s\u001b[0m 104ms/step - accuracy: 0.9975 - loss: 0.0078 - val_accuracy: 0.9665 - val_loss: 0.1920\n",
            "Epoch 60/100\n",
            "\u001b[1m101/101\u001b[0m \u001b[32m━━━━━━━━━━━━━━━━━━━━\u001b[0m\u001b[37m\u001b[0m \u001b[1m12s\u001b[0m 116ms/step - accuracy: 0.9980 - loss: 0.0056 - val_accuracy: 0.9610 - val_loss: 0.1992\n",
            "Epoch 61/100\n",
            "\u001b[1m101/101\u001b[0m \u001b[32m━━━━━━━━━━━━━━━━━━━━\u001b[0m\u001b[37m\u001b[0m \u001b[1m21s\u001b[0m 119ms/step - accuracy: 0.9970 - loss: 0.0076 - val_accuracy: 0.9697 - val_loss: 0.2144\n",
            "Epoch 62/100\n",
            "\u001b[1m101/101\u001b[0m \u001b[32m━━━━━━━━━━━━━━━━━━━━\u001b[0m\u001b[37m\u001b[0m \u001b[1m19s\u001b[0m 108ms/step - accuracy: 0.9972 - loss: 0.0082 - val_accuracy: 0.9621 - val_loss: 0.1819\n",
            "Epoch 63/100\n",
            "\u001b[1m101/101\u001b[0m \u001b[32m━━━━━━━━━━━━━━━━━━━━\u001b[0m\u001b[37m\u001b[0m \u001b[1m12s\u001b[0m 107ms/step - accuracy: 0.9976 - loss: 0.0121 - val_accuracy: 0.9654 - val_loss: 0.2017\n",
            "Epoch 64/100\n",
            "\u001b[1m101/101\u001b[0m \u001b[32m━━━━━━━━━━━━━━━━━━━━\u001b[0m\u001b[37m\u001b[0m \u001b[1m12s\u001b[0m 115ms/step - accuracy: 0.9993 - loss: 0.0044 - val_accuracy: 0.9610 - val_loss: 0.1994\n",
            "Epoch 65/100\n",
            "\u001b[1m101/101\u001b[0m \u001b[32m━━━━━━━━━━━━━━━━━━━━\u001b[0m\u001b[37m\u001b[0m \u001b[1m21s\u001b[0m 120ms/step - accuracy: 0.9987 - loss: 0.0076 - val_accuracy: 0.9600 - val_loss: 0.2106\n",
            "Epoch 66/100\n",
            "\u001b[1m101/101\u001b[0m \u001b[32m━━━━━━━━━━━━━━━━━━━━\u001b[0m\u001b[37m\u001b[0m \u001b[1m12s\u001b[0m 112ms/step - accuracy: 0.9935 - loss: 0.0131 - val_accuracy: 0.9632 - val_loss: 0.1934\n",
            "Epoch 67/100\n",
            "\u001b[1m101/101\u001b[0m \u001b[32m━━━━━━━━━━━━━━━━━━━━\u001b[0m\u001b[37m\u001b[0m \u001b[1m20s\u001b[0m 109ms/step - accuracy: 0.9968 - loss: 0.0065 - val_accuracy: 0.9621 - val_loss: 0.2150\n",
            "Epoch 68/100\n",
            "\u001b[1m101/101\u001b[0m \u001b[32m━━━━━━━━━━━━━━━━━━━━\u001b[0m\u001b[37m\u001b[0m \u001b[1m12s\u001b[0m 115ms/step - accuracy: 0.9983 - loss: 0.0059 - val_accuracy: 0.9654 - val_loss: 0.2179\n",
            "Epoch 69/100\n",
            "\u001b[1m101/101\u001b[0m \u001b[32m━━━━━━━━━━━━━━━━━━━━\u001b[0m\u001b[37m\u001b[0m \u001b[1m12s\u001b[0m 113ms/step - accuracy: 0.9970 - loss: 0.0120 - val_accuracy: 0.9632 - val_loss: 0.2478\n",
            "Epoch 70/100\n",
            "\u001b[1m101/101\u001b[0m \u001b[32m━━━━━━━━━━━━━━━━━━━━\u001b[0m\u001b[37m\u001b[0m \u001b[1m12s\u001b[0m 116ms/step - accuracy: 0.9975 - loss: 0.0071 - val_accuracy: 0.9632 - val_loss: 0.2044\n",
            "Epoch 71/100\n",
            "\u001b[1m101/101\u001b[0m \u001b[32m━━━━━━━━━━━━━━━━━━━━\u001b[0m\u001b[37m\u001b[0m \u001b[1m12s\u001b[0m 111ms/step - accuracy: 0.9980 - loss: 0.0104 - val_accuracy: 0.9632 - val_loss: 0.2202\n",
            "Epoch 72/100\n",
            "\u001b[1m101/101\u001b[0m \u001b[32m━━━━━━━━━━━━━━━━━━━━\u001b[0m\u001b[37m\u001b[0m \u001b[1m12s\u001b[0m 113ms/step - accuracy: 0.9967 - loss: 0.0063 - val_accuracy: 0.9643 - val_loss: 0.2215\n",
            "Epoch 73/100\n",
            "\u001b[1m101/101\u001b[0m \u001b[32m━━━━━━━━━━━━━━━━━━━━\u001b[0m\u001b[37m\u001b[0m \u001b[1m20s\u001b[0m 110ms/step - accuracy: 0.9976 - loss: 0.0073 - val_accuracy: 0.9632 - val_loss: 0.2286\n",
            "Epoch 74/100\n",
            "\u001b[1m101/101\u001b[0m \u001b[32m━━━━━━━━━━━━━━━━━━━━\u001b[0m\u001b[37m\u001b[0m \u001b[1m20s\u001b[0m 113ms/step - accuracy: 0.9946 - loss: 0.0128 - val_accuracy: 0.9632 - val_loss: 0.1720\n",
            "Epoch 75/100\n",
            "\u001b[1m101/101\u001b[0m \u001b[32m━━━━━━━━━━━━━━━━━━━━\u001b[0m\u001b[37m\u001b[0m \u001b[1m12s\u001b[0m 115ms/step - accuracy: 0.9952 - loss: 0.0101 - val_accuracy: 0.9643 - val_loss: 0.1981\n",
            "Epoch 76/100\n",
            "\u001b[1m101/101\u001b[0m \u001b[32m━━━━━━━━━━━━━━━━━━━━\u001b[0m\u001b[37m\u001b[0m \u001b[1m12s\u001b[0m 114ms/step - accuracy: 0.9987 - loss: 0.0055 - val_accuracy: 0.9665 - val_loss: 0.2155\n",
            "Epoch 77/100\n",
            "\u001b[1m101/101\u001b[0m \u001b[32m━━━━━━━━━━━━━━━━━━━━\u001b[0m\u001b[37m\u001b[0m \u001b[1m12s\u001b[0m 114ms/step - accuracy: 0.9967 - loss: 0.0145 - val_accuracy: 0.9643 - val_loss: 0.2258\n",
            "Epoch 78/100\n",
            "\u001b[1m101/101\u001b[0m \u001b[32m━━━━━━━━━━━━━━━━━━━━\u001b[0m\u001b[37m\u001b[0m \u001b[1m20s\u001b[0m 106ms/step - accuracy: 0.9955 - loss: 0.0103 - val_accuracy: 0.9654 - val_loss: 0.2165\n",
            "Epoch 79/100\n",
            "\u001b[1m101/101\u001b[0m \u001b[32m━━━━━━━━━━━━━━━━━━━━\u001b[0m\u001b[37m\u001b[0m \u001b[1m21s\u001b[0m 114ms/step - accuracy: 0.9986 - loss: 0.0045 - val_accuracy: 0.9643 - val_loss: 0.2049\n",
            "Epoch 80/100\n",
            "\u001b[1m101/101\u001b[0m \u001b[32m━━━━━━━━━━━━━━━━━━━━\u001b[0m\u001b[37m\u001b[0m \u001b[1m12s\u001b[0m 111ms/step - accuracy: 0.9978 - loss: 0.0102 - val_accuracy: 0.9654 - val_loss: 0.1883\n",
            "Epoch 81/100\n",
            "\u001b[1m101/101\u001b[0m \u001b[32m━━━━━━━━━━━━━━━━━━━━\u001b[0m\u001b[37m\u001b[0m \u001b[1m12s\u001b[0m 116ms/step - accuracy: 0.9982 - loss: 0.0111 - val_accuracy: 0.9654 - val_loss: 0.2372\n",
            "Epoch 82/100\n",
            "\u001b[1m101/101\u001b[0m \u001b[32m━━━━━━━━━━━━━━━━━━━━\u001b[0m\u001b[37m\u001b[0m \u001b[1m12s\u001b[0m 112ms/step - accuracy: 0.9980 - loss: 0.0038 - val_accuracy: 0.9621 - val_loss: 0.2336\n",
            "Epoch 83/100\n",
            "\u001b[1m101/101\u001b[0m \u001b[32m━━━━━━━━━━━━━━━━━━━━\u001b[0m\u001b[37m\u001b[0m \u001b[1m14s\u001b[0m 132ms/step - accuracy: 0.9969 - loss: 0.0072 - val_accuracy: 0.9686 - val_loss: 0.2513\n",
            "Epoch 84/100\n",
            "\u001b[1m101/101\u001b[0m \u001b[32m━━━━━━━━━━━━━━━━━━━━\u001b[0m\u001b[37m\u001b[0m \u001b[1m18s\u001b[0m 109ms/step - accuracy: 0.9989 - loss: 0.0042 - val_accuracy: 0.9632 - val_loss: 0.2311\n",
            "Epoch 85/100\n",
            "\u001b[1m101/101\u001b[0m \u001b[32m━━━━━━━━━━━━━━━━━━━━\u001b[0m\u001b[37m\u001b[0m \u001b[1m12s\u001b[0m 114ms/step - accuracy: 0.9986 - loss: 0.0057 - val_accuracy: 0.9675 - val_loss: 0.2471\n",
            "Epoch 86/100\n",
            "\u001b[1m101/101\u001b[0m \u001b[32m━━━━━━━━━━━━━━━━━━━━\u001b[0m\u001b[37m\u001b[0m \u001b[1m12s\u001b[0m 115ms/step - accuracy: 0.9994 - loss: 0.0044 - val_accuracy: 0.9665 - val_loss: 0.2470\n",
            "Epoch 87/100\n",
            "\u001b[1m101/101\u001b[0m \u001b[32m━━━━━━━━━━━━━━━━━━━━\u001b[0m\u001b[37m\u001b[0m \u001b[1m12s\u001b[0m 111ms/step - accuracy: 0.9970 - loss: 0.0074 - val_accuracy: 0.9632 - val_loss: 0.2126\n",
            "Epoch 88/100\n",
            "\u001b[1m101/101\u001b[0m \u001b[32m━━━━━━━━━━━━━━━━━━━━\u001b[0m\u001b[37m\u001b[0m \u001b[1m12s\u001b[0m 110ms/step - accuracy: 0.9991 - loss: 0.0033 - val_accuracy: 0.9654 - val_loss: 0.2110\n",
            "Epoch 89/100\n",
            "\u001b[1m101/101\u001b[0m \u001b[32m━━━━━━━━━━━━━━━━━━━━\u001b[0m\u001b[37m\u001b[0m \u001b[1m14s\u001b[0m 132ms/step - accuracy: 1.0000 - loss: 0.0015 - val_accuracy: 0.9654 - val_loss: 0.2507\n",
            "Epoch 90/100\n",
            "\u001b[1m101/101\u001b[0m \u001b[32m━━━━━━━━━━━━━━━━━━━━\u001b[0m\u001b[37m\u001b[0m \u001b[1m12s\u001b[0m 110ms/step - accuracy: 0.9973 - loss: 0.0091 - val_accuracy: 0.9654 - val_loss: 0.2316\n",
            "Epoch 91/100\n",
            "\u001b[1m101/101\u001b[0m \u001b[32m━━━━━━━━━━━━━━━━━━━━\u001b[0m\u001b[37m\u001b[0m \u001b[1m20s\u001b[0m 107ms/step - accuracy: 0.9976 - loss: 0.0040 - val_accuracy: 0.9600 - val_loss: 0.2894\n",
            "Epoch 92/100\n",
            "\u001b[1m101/101\u001b[0m \u001b[32m━━━━━━━━━━━━━━━━━━━━\u001b[0m\u001b[37m\u001b[0m \u001b[1m21s\u001b[0m 111ms/step - accuracy: 0.9960 - loss: 0.0143 - val_accuracy: 0.9643 - val_loss: 0.2484\n",
            "Epoch 93/100\n",
            "\u001b[1m101/101\u001b[0m \u001b[32m━━━━━━━━━━━━━━━━━━━━\u001b[0m\u001b[37m\u001b[0m \u001b[1m12s\u001b[0m 116ms/step - accuracy: 0.9970 - loss: 0.0067 - val_accuracy: 0.9632 - val_loss: 0.2343\n",
            "Epoch 94/100\n",
            "\u001b[1m101/101\u001b[0m \u001b[32m━━━━━━━━━━━━━━━━━━━━\u001b[0m\u001b[37m\u001b[0m \u001b[1m12s\u001b[0m 111ms/step - accuracy: 0.9995 - loss: 0.0027 - val_accuracy: 0.9632 - val_loss: 0.2884\n",
            "Epoch 95/100\n",
            "\u001b[1m101/101\u001b[0m \u001b[32m━━━━━━━━━━━━━━━━━━━━\u001b[0m\u001b[37m\u001b[0m \u001b[1m21s\u001b[0m 116ms/step - accuracy: 0.9995 - loss: 0.0028 - val_accuracy: 0.9621 - val_loss: 0.2352\n",
            "Epoch 96/100\n",
            "\u001b[1m101/101\u001b[0m \u001b[32m━━━━━━━━━━━━━━━━━━━━\u001b[0m\u001b[37m\u001b[0m \u001b[1m20s\u001b[0m 116ms/step - accuracy: 0.9993 - loss: 0.0030 - val_accuracy: 0.9643 - val_loss: 0.2598\n",
            "Epoch 97/100\n",
            "\u001b[1m101/101\u001b[0m \u001b[32m━━━━━━━━━━━━━━━━━━━━\u001b[0m\u001b[37m\u001b[0m \u001b[1m22s\u001b[0m 133ms/step - accuracy: 0.9983 - loss: 0.0034 - val_accuracy: 0.9643 - val_loss: 0.2533\n",
            "Epoch 98/100\n",
            "\u001b[1m101/101\u001b[0m \u001b[32m━━━━━━━━━━━━━━━━━━━━\u001b[0m\u001b[37m\u001b[0m \u001b[1m12s\u001b[0m 110ms/step - accuracy: 0.9989 - loss: 0.0048 - val_accuracy: 0.9643 - val_loss: 0.2434\n",
            "Epoch 99/100\n",
            "\u001b[1m101/101\u001b[0m \u001b[32m━━━━━━━━━━━━━━━━━━━━\u001b[0m\u001b[37m\u001b[0m \u001b[1m21s\u001b[0m 113ms/step - accuracy: 0.9989 - loss: 0.0059 - val_accuracy: 0.9643 - val_loss: 0.2556\n",
            "Epoch 100/100\n",
            "\u001b[1m101/101\u001b[0m \u001b[32m━━━━━━━━━━━━━━━━━━━━\u001b[0m\u001b[37m\u001b[0m \u001b[1m12s\u001b[0m 116ms/step - accuracy: 0.9990 - loss: 0.0033 - val_accuracy: 0.9665 - val_loss: 0.2385\n"
          ]
        }
      ]
    },
    {
      "cell_type": "markdown",
      "source": [
        "# **Test Accuracy**"
      ],
      "metadata": {
        "id": "jAV7lsbYydKX"
      }
    },
    {
      "cell_type": "code",
      "source": [
        "test_loss, test_acc = model.evaluate(test_data)\n",
        "print(f\"Test Accuracy: {test_acc:.2f}\")"
      ],
      "metadata": {
        "id": "bE0UcslyThUj",
        "colab": {
          "base_uri": "https://localhost:8080/"
        },
        "outputId": "ba41263d-b85a-4061-8b8a-2333424658ce"
      },
      "execution_count": 57,
      "outputs": [
        {
          "output_type": "stream",
          "name": "stdout",
          "text": [
            "\u001b[1m15/15\u001b[0m \u001b[32m━━━━━━━━━━━━━━━━━━━━\u001b[0m\u001b[37m\u001b[0m \u001b[1m1s\u001b[0m 86ms/step - accuracy: 0.9861 - loss: 0.0469\n",
            "Test Accuracy: 0.97\n"
          ]
        }
      ]
    },
    {
      "cell_type": "markdown",
      "source": [
        "# **Classification Report**"
      ],
      "metadata": {
        "id": "-GfUjbs2x3qu"
      }
    },
    {
      "cell_type": "code",
      "source": [
        "y_true = test_data.classes\n",
        "y_pred = (model.predict(test_data) > 0.5).astype(\"int32\")\n",
        "print(classification_report(y_true, y_pred, target_names=list(test_data.class_indices.keys())))"
      ],
      "metadata": {
        "id": "JF2ZGx84TrCu",
        "colab": {
          "base_uri": "https://localhost:8080/"
        },
        "outputId": "888e8435-5b95-43c1-ec1f-5708515f5e84"
      },
      "execution_count": 58,
      "outputs": [
        {
          "output_type": "stream",
          "name": "stdout",
          "text": [
            "\u001b[1m15/15\u001b[0m \u001b[32m━━━━━━━━━━━━━━━━━━━━\u001b[0m\u001b[37m\u001b[0m \u001b[1m2s\u001b[0m 119ms/step\n",
            "              precision    recall  f1-score   support\n",
            "\n",
            "     Healthy       0.96      0.99      0.97       230\n",
            "       Tumor       0.99      0.96      0.97       232\n",
            "\n",
            "    accuracy                           0.97       462\n",
            "   macro avg       0.97      0.97      0.97       462\n",
            "weighted avg       0.97      0.97      0.97       462\n",
            "\n"
          ]
        }
      ]
    },
    {
      "cell_type": "markdown",
      "source": [
        "# **Graphical illustration**"
      ],
      "metadata": {
        "id": "YZ3AgSmpx9RW"
      }
    },
    {
      "cell_type": "code",
      "source": [
        "plt.figure(figsize=(10, 5))\n",
        "plt.plot(history.history['accuracy'], label='Training Accuracy')\n",
        "plt.plot(history.history['val_accuracy'], label='Validation Accuracy')\n",
        "plt.title('Training and Validation Accuracy')\n",
        "plt.xlabel('Epochs')\n",
        "plt.ylabel('Accuracy')\n",
        "plt.legend()\n",
        "plt.show()"
      ],
      "metadata": {
        "id": "fLfMdC1wTvXC",
        "colab": {
          "base_uri": "https://localhost:8080/",
          "height": 487
        },
        "outputId": "96a8f365-92dc-410b-c7ff-b3117ad6d7cb"
      },
      "execution_count": 59,
      "outputs": [
        {
          "output_type": "display_data",
          "data": {
            "text/plain": [
              "<Figure size 1000x500 with 1 Axes>"
            ],
            "image/png": "[encoded data removed]"
          },
          "metadata": {}
        }
      ]
    },
    {
      "cell_type": "code",
      "source": [
        "plt.figure(figsize=(10, 5))\n",
        "plt.plot(history.history['loss'], label='Training Loss')\n",
        "plt.plot(history.history['val_loss'], label='Validation Loss')\n",
        "plt.title('Training and Validation Loss')\n",
        "plt.xlabel('Epochs')\n",
        "plt.ylabel('Loss')\n",
        "plt.legend()\n",
        "plt.show()"
      ],
      "metadata": {
        "id": "QtHnRX0bT1SF",
        "colab": {
          "base_uri": "https://localhost:8080/",
          "height": 487
        },
        "outputId": "e0cf0833-0b31-4b9d-9b04-5ebc52314e18"
      },
      "execution_count": 61,
      "outputs": [
        {
          "output_type": "display_data",
          "data": {
            "text/plain": [
              "<Figure size 1000x500 with 1 Axes>"
            ],
            "image/png": "[encoded data removed]"
          },
          "metadata": {}
        }
      ]
    },
    {
      "cell_type": "markdown",
      "source": [
        "# **Confusion Matrix**"
      ],
      "metadata": {
        "id": "bWhmB5xGyCvU"
      }
    },
    {
      "cell_type": "code",
      "source": [
        "from sklearn.metrics import confusion_matrix\n",
        "import matplotlib.pyplot as plt\n",
        "import numpy as np\n",
        "\n",
        "\n",
        "cm = confusion_matrix(y_true, y_pred)\n",
        "\n",
        "\n",
        "cm_percentage = cm.astype('float') / cm.sum(axis=1)[:, np.newaxis] * 100\n",
        "\n",
        "plt.figure(figsize=(6, 6))\n",
        "plt.imshow(cm_percentage, cmap='Blues', interpolation='nearest')\n",
        "plt.title('Confusion Matrix (Percentage)')\n",
        "plt.colorbar()\n",
        "plt.xlabel('Predicted Labels')\n",
        "plt.ylabel('True Labels')\n",
        "plt.xticks([0, 1], test_data.class_indices.keys())\n",
        "plt.yticks([0, 1], test_data.class_indices.keys())\n",
        "\n",
        "\n",
        "for i in range(cm.shape[0]):\n",
        "    for j in range(cm.shape[1]):\n",
        "        plt.text(j, i, f'{cm_percentage[i, j]:.2f}%',\n",
        "                 ha='center', va='center', color='black', fontsize=12)\n",
        "\n",
        "plt.show()\n",
        "\n",
        "\n"
      ],
      "metadata": {
        "id": "X0xyVTPnT2PZ",
        "colab": {
          "base_uri": "https://localhost:8080/",
          "height": 499
        },
        "outputId": "fa4d068a-7028-4194-d79a-0fa90a335837"
      },
      "execution_count": 63,
      "outputs": [
        {
          "output_type": "display_data",
          "data": {
            "text/plain": [
              "<Figure size 600x600 with 2 Axes>"
            ],
            "image/png": "[encoded data removed]"
          },
          "metadata": {}
        }
      ]
    },
    {
      "cell_type": "markdown",
      "source": [
        "# **Check Model**"
      ],
      "metadata": {
        "id": "GQCv58FK6hEo"
      }
    },
    {
      "cell_type": "code",
      "source": [
        "# 9. Predicting an external image\n",
        "def predict_external_image(image_path):\n",
        "    # Load the image\n",
        "    image = cv2.imread(image_path)\n",
        "    if image is None:\n",
        "        print(\"Error: Could not read the image. Check the file path.\")\n",
        "        return\n",
        "    # Resize and normalize the image\n",
        "    image = cv2.resize(image, (128, 128))\n",
        "    image = image / 255.0\n",
        "    # Add batch dimension\n",
        "    image = np.expand_dims(image, axis=0)\n",
        "    # Predict\n",
        "    prediction = model.predict(image)\n",
        "    class_label = \"Tumor\" if prediction > 0.5 else \"Healthy\"\n",
        "    print(f\"Prediction: {class_label} (Confidence: {prediction[0][0]:.2f})\")\n",
        "    return class_label\n",
        "\n",
        "# Example usage\n",
        "external_image_path = \"/content/CT-scan-image-of-brain-tumor.png\"  # Update with the path to your image\n",
        "predict_external_image(external_image_path)\n"
      ],
      "metadata": {
        "colab": {
          "base_uri": "https://localhost:8080/",
          "height": 70
        },
        "id": "QIW2fkOb08Rg",
        "outputId": "9600985a-7607-459a-bcda-9166ca56756d"
      },
      "execution_count": 65,
      "outputs": [
        {
          "output_type": "stream",
          "name": "stdout",
          "text": [
            "\u001b[1m1/1\u001b[0m \u001b[32m━━━━━━━━━━━━━━━━━━━━\u001b[0m\u001b[37m\u001b[0m \u001b[1m1s\u001b[0m 794ms/step\n",
            "Prediction: Tumor (Confidence: 1.00)\n"
          ]
        },
        {
          "output_type": "execute_result",
          "data": {
            "text/plain": [
              "'Tumor'"
            ],
            "application/vnd.google.colaboratory.intrinsic+json": {
              "type": "string"
            }
          },
          "metadata": {},
          "execution_count": 65
        }
      ]
    },
    {
      "cell_type": "code",
      "source": [
        "# 9. Predicting an external image\n",
        "def predict_external_image(image_path):\n",
        "    # Load the image\n",
        "    image = cv2.imread(image_path)\n",
        "    if image is None:\n",
        "        print(\"Error: Could not read the image. Check the file path.\")\n",
        "        return\n",
        "    # Resize and normalize the image\n",
        "    image = cv2.resize(image, (128, 128))\n",
        "    image = image / 255.0\n",
        "    # Add batch dimension\n",
        "    image = np.expand_dims(image, axis=0)\n",
        "    # Predict\n",
        "    prediction = model.predict(image)\n",
        "    class_label = \"Tumor\" if prediction > 0.5 else \"Healthy\"\n",
        "    print(f\"Prediction: {class_label} (Confidence: {prediction[0][0]:.2f})\")\n",
        "    return class_label\n",
        "\n",
        "# Example usage\n",
        "external_image_path = \"/content/CT-scan-image-of-brain-healthy.jpg\"  # Update with the path to your image\n",
        "predict_external_image(external_image_path)\n"
      ],
      "metadata": {
        "colab": {
          "base_uri": "https://localhost:8080/",
          "height": 70
        },
        "id": "8ODwYBAk5Utp",
        "outputId": "53b140f5-8901-4ba1-e39a-968af3900fe8"
      },
      "execution_count": 71,
      "outputs": [
        {
          "output_type": "stream",
          "name": "stdout",
          "text": [
            "\u001b[1m1/1\u001b[0m \u001b[32m━━━━━━━━━━━━━━━━━━━━\u001b[0m\u001b[37m\u001b[0m \u001b[1m0s\u001b[0m 32ms/step\n",
            "Prediction: Healthy (Confidence: 0.00)\n"
          ]
        },
        {
          "output_type": "execute_result",
          "data": {
            "text/plain": [
              "'Healthy'"
            ],
            "application/vnd.google.colaboratory.intrinsic+json": {
              "type": "string"
            }
          },
          "metadata": {},
          "execution_count": 71
        }
      ]
    }
  ]
}